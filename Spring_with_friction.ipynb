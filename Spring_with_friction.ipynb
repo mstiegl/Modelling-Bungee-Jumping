{
 "cells": [
  {
   "cell_type": "code",
   "execution_count": 2,
   "metadata": {
    "collapsed": true
   },
   "outputs": [
    {
     "ename": "SyntaxError",
     "evalue": "invalid syntax (<ipython-input-2-dc5a7fdea203>, line 36)",
     "traceback": [
      "\u001b[0;36m  File \u001b[0;32m\"<ipython-input-2-dc5a7fdea203>\"\u001b[0;36m, line \u001b[0;32m36\u001b[0m\n\u001b[0;31m    total_force = weight + restoring_spring_force+friction_force++\u001b[0m\n\u001b[0m                                                                  ^\u001b[0m\n\u001b[0;31mSyntaxError\u001b[0m\u001b[0;31m:\u001b[0m invalid syntax\n"
     ],
     "output_type": "error"
    }
   ],
   "source": [
    "# Model of the movement of a vertical spring\n",
    "# with friction\n",
    "#import matplotlib.pyplot as plt\n",
    "%matplotlib inline\n",
    "dt=0.001\n",
    "velocity = 0\n",
    "mass = 0.2\n",
    "acceleration_due_to_gravity = 9.81\n",
    "projected_area=0.1\n",
    "weight = mass * acceleration_due_to_gravity\n",
    "spring_constant = 10\n",
    "unweighted_length = 1\n",
    "weight_displacement = weight / spring_constant\n",
    "displacement = 0.3\n",
    "length = unweighted_length + weight_displacement + displacement\n",
    "restoring_spring_force = -spring_constant * (length - unweighted_length)\n",
    "friction_force=-0.65*projected_area*velocity*abs(velocity)\n",
    "total_force = weight + restoring_spring_force+friction_force\n",
    "acceleration = total_force / mass\n",
    "change_in_velocity = acceleration\n",
    "change_in_length = velocity\n",
    "t = 0\n",
    "timeLst = [0]\n",
    "velocityLst = [velocity]\n",
    "lengthLst = [length]\n",
    "while t<3:\n",
    "    t = t+dt\n",
    "    timeLst.append(t)\n",
    "    velocity = velocity + (change_in_velocity) *dt\n",
    "    velocityLst.append(velocity)\n",
    "    length = length + (change_in_length) *dt\n",
    "    lengthLst.append(length)\n",
    "    restoring_spring_force = -spring_constant * (length - unweighted_length)\n",
    "    friction_force=-0.65*projected_area*velocity*abs(velocity)\n",
    "\n",
    "    total_force = weight + restoring_spring_force+friction_force++\n",
    "    acceleration = total_force / mass\n",
    "    change_in_length = velocity\n",
    "    change_in_velocity = acceleration\n",
    "plt.plot(timeLst,lengthLst)\n",
    "plt.show()"
   ]
  },
  {
   "cell_type": "code",
   "execution_count": null,
   "metadata": {},
   "outputs": [],
   "source": []
  }
 ],
 "metadata": {
  "kernelspec": {
   "display_name": "Python 2",
   "language": "python",
   "name": "python2"
  },
  "language_info": {
   "codemirror_mode": {
    "name": "ipython",
    "version": 2
   },
   "file_extension": ".py",
   "mimetype": "text/x-python",
   "name": "python",
   "nbconvert_exporter": "python",
   "pygments_lexer": "ipython2",
   "version": "2.7.6"
  }
 },
 "nbformat": 4,
 "nbformat_minor": 0
}
